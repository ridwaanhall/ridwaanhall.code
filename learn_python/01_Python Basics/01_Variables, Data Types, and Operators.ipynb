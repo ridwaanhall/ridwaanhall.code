{
 "cells": [
  {
   "cell_type": "markdown",
   "metadata": {},
   "source": [
    "## variables, data types, and operators in Python with examples."
   ]
  },
  {
   "cell_type": "markdown",
   "metadata": {},
   "source": [
    "### Variables\n",
    "\n",
    "Variables are used to store data values.\n",
    "In Python, you don't need to declare the type of variable explicitly;\n",
    "the interpreter infers it."
   ]
  },
  {
   "cell_type": "code",
   "execution_count": 1,
   "metadata": {},
   "outputs": [],
   "source": [
    "# Integer\n",
    "age = 25 # this is an integer. It's a whole number.\n",
    "\n",
    "# Float\n",
    "pi = 3.14 # this is a float. It's a number with a decimal point.\n",
    "\n",
    "# String\n",
    "name = \"Alice\" # this is a string. It's a sequence of characters.\n",
    "\n",
    "# Boolean\n",
    "is_student = True # this is a boolean. It's either True or False.\n",
    "\n",
    "# None\n",
    "nothing = None # this is a special value that represents the absence of a value."
   ]
  },
  {
   "cell_type": "markdown",
   "metadata": {},
   "source": [
    "### Data Types\n",
    "Python has several built-in data types. Here are some of the most commonly used ones:"
   ]
  },
  {
   "cell_type": "markdown",
   "metadata": {},
   "source": [
    "#### 1. Numbers"
   ]
  },
  {
   "cell_type": "code",
   "execution_count": 3,
   "metadata": {},
   "outputs": [],
   "source": [
    "# Integer (int): Whole numbers, positive or negative.\n",
    "x = 10\n",
    "y = -5\n",
    "z = 0\n",
    "\n",
    "# Float (float): Decimal numbers, positive or negative.\n",
    "a = 3.14\n",
    "b = -2.7\n",
    "c = 0.0\n",
    "\n",
    "# Complex (complex): Complex numbers with real and imaginary parts.\n",
    "d = 1+2j\n",
    "e = -3.14j\n",
    "f = 0.0j"
   ]
  },
  {
   "cell_type": "markdown",
   "metadata": {},
   "source": [
    "#### 2. Strings"
   ]
  },
  {
   "cell_type": "code",
   "execution_count": 2,
   "metadata": {},
   "outputs": [],
   "source": [
    "# Strings are sequences of characters.\n",
    "hello = \"Hello, World!\"\n",
    "goodbye = 'Goodbye, World!'"
   ]
  },
  {
   "cell_type": "markdown",
   "metadata": {},
   "source": [
    "#### 3. Booleans"
   ]
  },
  {
   "cell_type": "code",
   "execution_count": 4,
   "metadata": {},
   "outputs": [],
   "source": [
    "# Booleans are either True or False. Represents two values: True or False\n",
    "is_true = True\n",
    "is_false = False"
   ]
  },
  {
   "cell_type": "markdown",
   "metadata": {},
   "source": [
    "#### 4. NoneType"
   ]
  },
  {
   "cell_type": "code",
   "execution_count": 5,
   "metadata": {},
   "outputs": [],
   "source": [
    "# None is a special value that represents the absence of a value.\n",
    "x = None\n",
    "y = None\n",
    "z = None"
   ]
  },
  {
   "cell_type": "markdown",
   "metadata": {},
   "source": [
    "#### 5. Sequence Types"
   ]
  },
  {
   "cell_type": "code",
   "execution_count": 6,
   "metadata": {},
   "outputs": [],
   "source": [
    "# List: Ordered, mutable collection.\n",
    "fruits = [\"apple\", \"banana\", \"cherry\"]\n",
    "\n",
    "# Tuple: Ordered, immutable collection.\n",
    "numbers = (1, 2, 3)\n",
    "\n",
    "# Range: Immutable collection of integers.\n",
    "numbers = range(1, 10)"
   ]
  },
  {
   "cell_type": "markdown",
   "metadata": {},
   "source": [
    "#### 6. Mapping Type"
   ]
  },
  {
   "cell_type": "code",
   "execution_count": null,
   "metadata": {},
   "outputs": [],
   "source": [
    "# Dictionary (dict): Unordered, mutable collection of key-value pairs.\n",
    "person = {\"name\": \"Alice\", \"age\": 25, \"city\": \"New York\"}"
   ]
  },
  {
   "cell_type": "markdown",
   "metadata": {},
   "source": [
    "#### 7. Set Types"
   ]
  },
  {
   "cell_type": "code",
   "execution_count": null,
   "metadata": {},
   "outputs": [],
   "source": [
    "# Set: Unordered collection of unique elements.\n",
    "fruits = {\"apple\", \"banana\", \"cherry\"}\n",
    "\n",
    "# Frozen Set: Immutable version of a set.\n",
    "fruits = frozenset({\"apple\", \"banana\", \"cherry\"})"
   ]
  },
  {
   "cell_type": "markdown",
   "metadata": {},
   "source": [
    "### Operators\n",
    "\n",
    "Operators are special symbols that perform operations on variables and values."
   ]
  },
  {
   "cell_type": "markdown",
   "metadata": {},
   "source": [
    "#### 1. Arithmetic Operators"
   ]
  },
  {
   "cell_type": "code",
   "execution_count": 9,
   "metadata": {},
   "outputs": [
    {
     "name": "stdout",
     "output_type": "stream",
     "text": [
      "result of addition (x + y):  15\n",
      "result of subtraction (x - y):  -5\n",
      "result of multiplication (x * y):  50\n",
      "result of division (x / y):  0.5\n",
      "result of floor division (x // y):  0\n",
      "result of modulo (x % y):  5\n"
     ]
    }
   ],
   "source": [
    "# Addition (+): Adds two numbers.\n",
    "x = 5\n",
    "y = 10\n",
    "z = x + y\n",
    "print('result of addition (x + y): ', z)\n",
    "\n",
    "# Subtraction (-): Subtracts one number from another.\n",
    "x = 5\n",
    "y = 10\n",
    "z = x - y\n",
    "print('result of subtraction (x - y): ', z)\n",
    "\n",
    "# Multiplication (*): Multiplies two numbers.\n",
    "x = 5\n",
    "y = 10\n",
    "z = x * y\n",
    "print('result of multiplication (x * y): ', z)\n",
    "\n",
    "# Division (/): Divides one number by another.\n",
    "x = 5\n",
    "y = 10\n",
    "z = x / y\n",
    "print('result of division (x / y): ', z)\n",
    "\n",
    "# Floor Division (//): Divides one number by another and rounds the result down to the nearest integer.\n",
    "x = 5\n",
    "y = 10\n",
    "z = x // y\n",
    "print('result of floor division (x // y): ', z)\n",
    "\n",
    "# Modulus (%): Divides one number by another and returns the remainder.\n",
    "x = 5\n",
    "y = 10\n",
    "z = x % y\n",
    "print('result of Modulus (x % y): ', z)"
   ]
  },
  {
   "cell_type": "markdown",
   "metadata": {},
   "source": [
    "#### 2. Comparison Operators"
   ]
  },
  {
   "cell_type": "code",
   "execution_count": 12,
   "metadata": {},
   "outputs": [],
   "source": [
    "# Equal to (==): Checks if two values are equal.\n",
    "result = (5 == 5) # True. 5 is equal to 5.\n",
    "\n",
    "# Not Equal to (!=): Checks if two values are not equal.\n",
    "result = (5 != 5) # False. 5 is not equal to 5.\n",
    "\n",
    "# Greater than (>): Checks if one value is greater than another.\n",
    "result = (5 > 5) # False. 5 is not greater than 5.\n",
    "\n",
    "# Less than (<): Checks if one value is less than another.\n",
    "result = (5 < 5) # False. 5 is not less than 5.\n",
    "\n",
    "# Greater than or equal to (>=): Checks if one value is greater than or equal to another.\n",
    "result = (5 >= 5) # True. 5 is greater than or equal to 5.\n",
    "\n",
    "# Less than or equal to (<=): Checks if one value is less than or equal to another.\n",
    "result = (5 <= 5) # True. 5 is less than or equal to 5."
   ]
  },
  {
   "cell_type": "markdown",
   "metadata": {},
   "source": [
    "#### 3. Logical Operators"
   ]
  },
  {
   "cell_type": "code",
   "execution_count": null,
   "metadata": {},
   "outputs": [],
   "source": []
  }
 ],
 "metadata": {
  "kernelspec": {
   "display_name": "Python 3",
   "language": "python",
   "name": "python3"
  },
  "language_info": {
   "codemirror_mode": {
    "name": "ipython",
    "version": 3
   },
   "file_extension": ".py",
   "mimetype": "text/x-python",
   "name": "python",
   "nbconvert_exporter": "python",
   "pygments_lexer": "ipython3",
   "version": "3.12.0"
  }
 },
 "nbformat": 4,
 "nbformat_minor": 2
}
